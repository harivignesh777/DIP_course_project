{
 "cells": [
  {
   "cell_type": "code",
   "execution_count": null,
   "metadata": {},
   "outputs": [],
   "source": [
    "import numpy as np"
   ]
  },
  {
   "cell_type": "code",
   "execution_count": null,
   "metadata": {},
   "outputs": [],
   "source": [
    "N = 10\n",
    "# table1 = np.random.uniform(0.1,1,(N,3))\n",
    "# table2 = np.random.uniform(0.1,1,(N,3))\n",
    "\n",
    "table1 = np.sort(np.random.uniform(0.1,1,(N,3)),1)\n",
    "table2 = np.sort(np.random.uniform(0.1,1,(N,3)),1)\n",
    "error_table = np.zeros((N,1),np.float64)\n",
    "matched_triangles_index_error_table = np.zeros((N,2),np.float64)\n"
   ]
  },
  {
   "cell_type": "code",
   "execution_count": null,
   "metadata": {},
   "outputs": [],
   "source": [
    "for i in range(N):\n",
    "    ratio_table = np.divide(table2,np.tile(table1[i,:],[N,1]))\n",
    "    mean_ratio = np.mean(ratio_table,1).reshape(N,1)\n",
    "    mean_ratio_table = np.tile(mean_ratio,[1,3])\n",
    "    ratio_error = np.abs(ratio_table-mean_ratio_table)\n",
    "    normalised_ratio_error = np.divide(ratio_error,mean_ratio_table)\n",
    "    total_normalised_ratio_error = np.sum(normalised_ratio_error,1)\n",
    "    matched_triangles_index_error_table[i,:] = [np.argmin(total_normalised_ratio_error),np.min(total_normalised_ratio_error)]\n"
   ]
  },
  {
   "cell_type": "code",
   "execution_count": null,
   "metadata": {},
   "outputs": [],
   "source": [
    "for i in range(N):\n",
    "    indices_of_multiple_matches = np.where(matched_triangles_index_error_table[:,0] == i)[0]\n",
    "    if (np.size(indices_of_multiple_matches) == 0):\n",
    "        continue\n",
    "    index_of_most_similar_triangle_index_in_table1 = np.argmin(matched_triangles_index_error_table[indices_of_multiple_matches,1])\n",
    "    indices_of_matched_but_less_similar_triangles_in_table1 = np.delete(indices_of_multiple_matches,index_of_most_similar_triangle_index_in_table1)\n",
    "    matched_triangles_index_error_table[indices_of_matched_but_less_similar_triangles_in_table1,0] = -1"
   ]
  }
 ],
 "metadata": {
  "kernelspec": {
   "display_name": "Python 3.7.13 ('opencv')",
   "language": "python",
   "name": "python3"
  },
  "language_info": {
   "codemirror_mode": {
    "name": "ipython",
    "version": 3
   },
   "file_extension": ".py",
   "mimetype": "text/x-python",
   "name": "python",
   "nbconvert_exporter": "python",
   "pygments_lexer": "ipython3",
   "version": "3.7.13"
  },
  "orig_nbformat": 4,
  "vscode": {
   "interpreter": {
    "hash": "3a268f0327f2a0a5180f9a0650745e3a522f3edf3c17b10ce37f9046db8000c6"
   }
  }
 },
 "nbformat": 4,
 "nbformat_minor": 2
}
